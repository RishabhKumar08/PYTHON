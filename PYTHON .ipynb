{
 "cells": [
  {
   "cell_type": "code",
   "execution_count": 1,
   "id": "dfd6ed1e",
   "metadata": {},
   "outputs": [],
   "source": [
    "d = [10,15,20]"
   ]
  },
  {
   "cell_type": "code",
   "execution_count": 2,
   "id": "3d34b4bc",
   "metadata": {},
   "outputs": [],
   "source": [
    "f=[1,1.5,True,'Data']"
   ]
  },
  {
   "cell_type": "code",
   "execution_count": 3,
   "id": "985d3cff",
   "metadata": {},
   "outputs": [
    {
     "data": {
      "text/plain": [
       "True"
      ]
     },
     "execution_count": 3,
     "metadata": {},
     "output_type": "execute_result"
    }
   ],
   "source": [
    "f[2]"
   ]
  },
  {
   "cell_type": "code",
   "execution_count": 4,
   "id": "ea39ee30",
   "metadata": {},
   "outputs": [],
   "source": [
    "l=[1,2,4,5,6,7,8]"
   ]
  },
  {
   "cell_type": "code",
   "execution_count": 5,
   "id": "94623d74",
   "metadata": {},
   "outputs": [
    {
     "data": {
      "text/plain": [
       "[1, 2, 4, 5]"
      ]
     },
     "execution_count": 5,
     "metadata": {},
     "output_type": "execute_result"
    }
   ],
   "source": [
    "l[0:4]"
   ]
  },
  {
   "cell_type": "code",
   "execution_count": 6,
   "id": "33344115",
   "metadata": {},
   "outputs": [
    {
     "data": {
      "text/plain": [
       "[1, 4, 6, 8]"
      ]
     },
     "execution_count": 6,
     "metadata": {},
     "output_type": "execute_result"
    }
   ],
   "source": [
    "l[0:7:2]"
   ]
  },
  {
   "cell_type": "code",
   "execution_count": 7,
   "id": "f0e9a99e",
   "metadata": {},
   "outputs": [
    {
     "data": {
      "text/plain": [
       "[8, 7, 6, 5, 4, 2]"
      ]
     },
     "execution_count": 7,
     "metadata": {},
     "output_type": "execute_result"
    }
   ],
   "source": [
    "l[7:0:-1]"
   ]
  },
  {
   "cell_type": "code",
   "execution_count": 8,
   "id": "2c3da937",
   "metadata": {},
   "outputs": [
    {
     "data": {
      "text/plain": [
       "[8, 7, 6, 5, 4, 2, 1]"
      ]
     },
     "execution_count": 8,
     "metadata": {},
     "output_type": "execute_result"
    }
   ],
   "source": [
    "l[::-1]"
   ]
  },
  {
   "cell_type": "markdown",
   "id": "39b90597",
   "metadata": {},
   "source": [
    "# changing element"
   ]
  },
  {
   "cell_type": "code",
   "execution_count": 10,
   "id": "c0ff1add",
   "metadata": {},
   "outputs": [],
   "source": [
    "d= [1,2,3,'DATA',True]"
   ]
  },
  {
   "cell_type": "code",
   "execution_count": 11,
   "id": "03f99162",
   "metadata": {},
   "outputs": [],
   "source": [
    "d[2]=300"
   ]
  },
  {
   "cell_type": "code",
   "execution_count": 12,
   "id": "05fbbfbb",
   "metadata": {},
   "outputs": [
    {
     "data": {
      "text/plain": [
       "[1, 2, 300, 'DATA', True]"
      ]
     },
     "execution_count": 12,
     "metadata": {},
     "output_type": "execute_result"
    }
   ],
   "source": [
    "d"
   ]
  },
  {
   "cell_type": "code",
   "execution_count": 13,
   "id": "481bfb39",
   "metadata": {},
   "outputs": [],
   "source": [
    "d.append('NEW')"
   ]
  },
  {
   "cell_type": "code",
   "execution_count": 14,
   "id": "60fec133",
   "metadata": {},
   "outputs": [
    {
     "data": {
      "text/plain": [
       "[1, 2, 300, 'DATA', True, 'NEW']"
      ]
     },
     "execution_count": 14,
     "metadata": {},
     "output_type": "execute_result"
    }
   ],
   "source": [
    "d"
   ]
  },
  {
   "cell_type": "code",
   "execution_count": 15,
   "id": "e9e3ed65",
   "metadata": {},
   "outputs": [],
   "source": [
    "d.extend([111,222,333])"
   ]
  },
  {
   "cell_type": "code",
   "execution_count": 16,
   "id": "ef7832ef",
   "metadata": {},
   "outputs": [
    {
     "data": {
      "text/plain": [
       "[1, 2, 300, 'DATA', True, 'NEW', 111, 222, 333]"
      ]
     },
     "execution_count": 16,
     "metadata": {},
     "output_type": "execute_result"
    }
   ],
   "source": [
    "d"
   ]
  },
  {
   "cell_type": "code",
   "execution_count": 17,
   "id": "df8c0010",
   "metadata": {},
   "outputs": [],
   "source": [
    "d.append([111,222,333])"
   ]
  },
  {
   "cell_type": "code",
   "execution_count": 18,
   "id": "5f36d02a",
   "metadata": {},
   "outputs": [
    {
     "data": {
      "text/plain": [
       "[1, 2, 300, 'DATA', True, 'NEW', 111, 222, 333, [111, 222, 333]]"
      ]
     },
     "execution_count": 18,
     "metadata": {},
     "output_type": "execute_result"
    }
   ],
   "source": [
    "d"
   ]
  },
  {
   "cell_type": "code",
   "execution_count": 20,
   "id": "3cc404e8",
   "metadata": {},
   "outputs": [
    {
     "data": {
      "text/plain": [
       "[111, 222, 333]"
      ]
     },
     "execution_count": 20,
     "metadata": {},
     "output_type": "execute_result"
    }
   ],
   "source": [
    "d[9]"
   ]
  },
  {
   "cell_type": "code",
   "execution_count": 21,
   "id": "27cb1125",
   "metadata": {},
   "outputs": [
    {
     "data": {
      "text/plain": [
       "222"
      ]
     },
     "execution_count": 21,
     "metadata": {},
     "output_type": "execute_result"
    }
   ],
   "source": [
    "d[9][1]"
   ]
  },
  {
   "cell_type": "code",
   "execution_count": 22,
   "id": "6cb5602f",
   "metadata": {},
   "outputs": [],
   "source": [
    "d.insert(2,1000)"
   ]
  },
  {
   "cell_type": "code",
   "execution_count": 23,
   "id": "789f4058",
   "metadata": {},
   "outputs": [
    {
     "data": {
      "text/plain": [
       "[1, 2, 1000, 300, 'DATA', True, 'NEW', 111, 222, 333, [111, 222, 333]]"
      ]
     },
     "execution_count": 23,
     "metadata": {},
     "output_type": "execute_result"
    }
   ],
   "source": [
    "d"
   ]
  },
  {
   "cell_type": "code",
   "execution_count": 24,
   "id": "4194ed16",
   "metadata": {},
   "outputs": [],
   "source": [
    "d.remove(300)"
   ]
  },
  {
   "cell_type": "code",
   "execution_count": 25,
   "id": "dbc90bc0",
   "metadata": {},
   "outputs": [
    {
     "data": {
      "text/plain": [
       "[1, 2, 1000, 'DATA', True, 'NEW', 111, 222, 333, [111, 222, 333]]"
      ]
     },
     "execution_count": 25,
     "metadata": {},
     "output_type": "execute_result"
    }
   ],
   "source": [
    "d"
   ]
  },
  {
   "cell_type": "code",
   "execution_count": 26,
   "id": "8e542d13",
   "metadata": {},
   "outputs": [],
   "source": [
    "d.remove('NEW')"
   ]
  },
  {
   "cell_type": "code",
   "execution_count": 27,
   "id": "28b0e186",
   "metadata": {},
   "outputs": [
    {
     "data": {
      "text/plain": [
       "[1, 2, 1000, 'DATA', True, 111, 222, 333, [111, 222, 333]]"
      ]
     },
     "execution_count": 27,
     "metadata": {},
     "output_type": "execute_result"
    }
   ],
   "source": [
    "d"
   ]
  },
  {
   "cell_type": "code",
   "execution_count": 28,
   "id": "9aede64f",
   "metadata": {},
   "outputs": [
    {
     "data": {
      "text/plain": [
       "[111, 222, 333]"
      ]
     },
     "execution_count": 28,
     "metadata": {},
     "output_type": "execute_result"
    }
   ],
   "source": [
    "d.pop()"
   ]
  },
  {
   "cell_type": "code",
   "execution_count": 29,
   "id": "96c5b962",
   "metadata": {},
   "outputs": [
    {
     "data": {
      "text/plain": [
       "[1, 2, 1000, 'DATA', True, 111, 222, 333]"
      ]
     },
     "execution_count": 29,
     "metadata": {},
     "output_type": "execute_result"
    }
   ],
   "source": [
    "d"
   ]
  },
  {
   "cell_type": "code",
   "execution_count": 30,
   "id": "ec809ba7",
   "metadata": {},
   "outputs": [],
   "source": [
    "k=[1,2,3]"
   ]
  },
  {
   "cell_type": "code",
   "execution_count": 32,
   "id": "0899e4c0",
   "metadata": {},
   "outputs": [
    {
     "data": {
      "text/plain": [
       "3"
      ]
     },
     "execution_count": 32,
     "metadata": {},
     "output_type": "execute_result"
    }
   ],
   "source": [
    "k.pop()"
   ]
  },
  {
   "cell_type": "code",
   "execution_count": 33,
   "id": "92ad2e92",
   "metadata": {},
   "outputs": [
    {
     "data": {
      "text/plain": [
       "[1, 2]"
      ]
     },
     "execution_count": 33,
     "metadata": {},
     "output_type": "execute_result"
    }
   ],
   "source": [
    "k"
   ]
  },
  {
   "cell_type": "markdown",
   "id": "891945a6",
   "metadata": {},
   "source": [
    "# DATA STRECTURES"
   ]
  },
  {
   "cell_type": "code",
   "execution_count": 1,
   "id": "3abc95ff",
   "metadata": {},
   "outputs": [],
   "source": [
    "p=[1,2,3,4,5,6,7]"
   ]
  },
  {
   "cell_type": "code",
   "execution_count": 2,
   "id": "1bb34e5c",
   "metadata": {},
   "outputs": [
    {
     "data": {
      "text/plain": [
       "[1, 2, 3, 4]"
      ]
     },
     "execution_count": 2,
     "metadata": {},
     "output_type": "execute_result"
    }
   ],
   "source": [
    "p[0:4]"
   ]
  },
  {
   "cell_type": "code",
   "execution_count": 3,
   "id": "4f02b2db",
   "metadata": {},
   "outputs": [
    {
     "data": {
      "text/plain": [
       "list"
      ]
     },
     "execution_count": 3,
     "metadata": {},
     "output_type": "execute_result"
    }
   ],
   "source": [
    "type(p)"
   ]
  },
  {
   "cell_type": "code",
   "execution_count": 5,
   "id": "bfb81a3e",
   "metadata": {},
   "outputs": [],
   "source": [
    "p.append(10)"
   ]
  },
  {
   "cell_type": "code",
   "execution_count": 6,
   "id": "e775c63d",
   "metadata": {},
   "outputs": [
    {
     "data": {
      "text/plain": [
       "[1, 2, 3, 4, 5, 6, 7, 10]"
      ]
     },
     "execution_count": 6,
     "metadata": {},
     "output_type": "execute_result"
    }
   ],
   "source": [
    "p"
   ]
  },
  {
   "cell_type": "code",
   "execution_count": 8,
   "id": "e67d1250",
   "metadata": {},
   "outputs": [],
   "source": [
    "p.extend([12])"
   ]
  },
  {
   "cell_type": "code",
   "execution_count": 9,
   "id": "82322b2a",
   "metadata": {},
   "outputs": [
    {
     "data": {
      "text/plain": [
       "[1, 2, 3, 4, 5, 6, 7, 10, 12]"
      ]
     },
     "execution_count": 9,
     "metadata": {},
     "output_type": "execute_result"
    }
   ],
   "source": [
    "p"
   ]
  },
  {
   "cell_type": "code",
   "execution_count": 10,
   "id": "308e0fe6",
   "metadata": {},
   "outputs": [],
   "source": [
    "l=[1,2,[1,200,300],4,5]"
   ]
  },
  {
   "cell_type": "code",
   "execution_count": 11,
   "id": "c5c7c85c",
   "metadata": {},
   "outputs": [
    {
     "data": {
      "text/plain": [
       "[1, 200, 300]"
      ]
     },
     "execution_count": 11,
     "metadata": {},
     "output_type": "execute_result"
    }
   ],
   "source": [
    "l[2]"
   ]
  },
  {
   "cell_type": "code",
   "execution_count": 13,
   "id": "5dd41fb5",
   "metadata": {},
   "outputs": [],
   "source": [
    "k=[1,2,['data','science',['python','stats'],'data analysis'],3,4]"
   ]
  },
  {
   "cell_type": "code",
   "execution_count": 14,
   "id": "90b921df",
   "metadata": {},
   "outputs": [
    {
     "data": {
      "text/plain": [
       "['data', 'science', ['python', 'stats'], 'data analysis']"
      ]
     },
     "execution_count": 14,
     "metadata": {},
     "output_type": "execute_result"
    }
   ],
   "source": [
    "k[2]"
   ]
  },
  {
   "cell_type": "code",
   "execution_count": 15,
   "id": "da32b41f",
   "metadata": {},
   "outputs": [
    {
     "data": {
      "text/plain": [
       "['python', 'stats']"
      ]
     },
     "execution_count": 15,
     "metadata": {},
     "output_type": "execute_result"
    }
   ],
   "source": [
    "k[2][2]"
   ]
  },
  {
   "cell_type": "code",
   "execution_count": 16,
   "id": "016c8292",
   "metadata": {},
   "outputs": [
    {
     "data": {
      "text/plain": [
       "'stats'"
      ]
     },
     "execution_count": 16,
     "metadata": {},
     "output_type": "execute_result"
    }
   ],
   "source": [
    "k[2][2][1]"
   ]
  },
  {
   "cell_type": "code",
   "execution_count": 17,
   "id": "02fea4df",
   "metadata": {},
   "outputs": [
    {
     "data": {
      "text/plain": [
       "[1, 2, 3, 4, 5, 6, 7, 10, 12]"
      ]
     },
     "execution_count": 17,
     "metadata": {},
     "output_type": "execute_result"
    }
   ],
   "source": [
    "p"
   ]
  },
  {
   "cell_type": "code",
   "execution_count": 18,
   "id": "bca5f1c1",
   "metadata": {},
   "outputs": [
    {
     "data": {
      "text/plain": [
       "[1, 2, ['data', 'science', ['python', 'stats'], 'data analysis'], 3, 4]"
      ]
     },
     "execution_count": 18,
     "metadata": {},
     "output_type": "execute_result"
    }
   ],
   "source": [
    "k"
   ]
  },
  {
   "cell_type": "code",
   "execution_count": 19,
   "id": "30228a6a",
   "metadata": {},
   "outputs": [
    {
     "data": {
      "text/plain": [
       "[1,\n",
       " 2,\n",
       " 3,\n",
       " 4,\n",
       " 5,\n",
       " 6,\n",
       " 7,\n",
       " 10,\n",
       " 12,\n",
       " 1,\n",
       " 2,\n",
       " ['data', 'science', ['python', 'stats'], 'data analysis'],\n",
       " 3,\n",
       " 4]"
      ]
     },
     "execution_count": 19,
     "metadata": {},
     "output_type": "execute_result"
    }
   ],
   "source": [
    "p+k"
   ]
  },
  {
   "cell_type": "code",
   "execution_count": 20,
   "id": "a7013922",
   "metadata": {},
   "outputs": [
    {
     "data": {
      "text/plain": [
       "9"
      ]
     },
     "execution_count": 20,
     "metadata": {},
     "output_type": "execute_result"
    }
   ],
   "source": [
    "len(p)"
   ]
  },
  {
   "cell_type": "code",
   "execution_count": 21,
   "id": "fd03fe31",
   "metadata": {},
   "outputs": [
    {
     "data": {
      "text/plain": [
       "5"
      ]
     },
     "execution_count": 21,
     "metadata": {},
     "output_type": "execute_result"
    }
   ],
   "source": [
    "len(k)"
   ]
  },
  {
   "cell_type": "code",
   "execution_count": 22,
   "id": "465aae79",
   "metadata": {},
   "outputs": [
    {
     "data": {
      "text/plain": [
       "[1, 2, 3, 4, 5, 6, 7, 10, 12, 1, 2, 3, 4, 5, 6, 7, 10, 12]"
      ]
     },
     "execution_count": 22,
     "metadata": {},
     "output_type": "execute_result"
    }
   ],
   "source": [
    "p*2"
   ]
  },
  {
   "cell_type": "code",
   "execution_count": 23,
   "id": "7497f935",
   "metadata": {},
   "outputs": [
    {
     "data": {
      "text/plain": [
       "[1, 2, 3, 4, 5, 6, 7, 10, 12]"
      ]
     },
     "execution_count": 23,
     "metadata": {},
     "output_type": "execute_result"
    }
   ],
   "source": [
    "p"
   ]
  },
  {
   "cell_type": "code",
   "execution_count": 24,
   "id": "b3eb6a82",
   "metadata": {},
   "outputs": [],
   "source": [
    "p[3]=4# modify"
   ]
  },
  {
   "cell_type": "code",
   "execution_count": 25,
   "id": "439fa0fc",
   "metadata": {},
   "outputs": [
    {
     "data": {
      "text/plain": [
       "[1, 2, 3, 4, 5, 6, 7, 10, 12]"
      ]
     },
     "execution_count": 25,
     "metadata": {},
     "output_type": "execute_result"
    }
   ],
   "source": [
    "p"
   ]
  },
  {
   "cell_type": "code",
   "execution_count": 26,
   "id": "059285bc",
   "metadata": {},
   "outputs": [
    {
     "data": {
      "text/plain": [
       "[3, 4, 5]"
      ]
     },
     "execution_count": 26,
     "metadata": {},
     "output_type": "execute_result"
    }
   ],
   "source": [
    "p[2:5]# slicing"
   ]
  },
  {
   "cell_type": "code",
   "execution_count": 27,
   "id": "f37cfb2f",
   "metadata": {},
   "outputs": [],
   "source": [
    "p=[1,2,3,4,5,6]"
   ]
  },
  {
   "cell_type": "code",
   "execution_count": 28,
   "id": "3e974604",
   "metadata": {},
   "outputs": [
    {
     "data": {
      "text/plain": [
       "True"
      ]
     },
     "execution_count": 28,
     "metadata": {},
     "output_type": "execute_result"
    }
   ],
   "source": [
    "6 in p"
   ]
  },
  {
   "cell_type": "code",
   "execution_count": 29,
   "id": "8d6c2af2",
   "metadata": {},
   "outputs": [
    {
     "data": {
      "text/plain": [
       "False"
      ]
     },
     "execution_count": 29,
     "metadata": {},
     "output_type": "execute_result"
    }
   ],
   "source": [
    "20 in p"
   ]
  },
  {
   "cell_type": "code",
   "execution_count": 30,
   "id": "ea995e25",
   "metadata": {},
   "outputs": [],
   "source": [
    "j=[6,8,4,5,2,1]"
   ]
  },
  {
   "cell_type": "code",
   "execution_count": 31,
   "id": "92952ce6",
   "metadata": {},
   "outputs": [],
   "source": [
    "j.sort()"
   ]
  },
  {
   "cell_type": "code",
   "execution_count": 32,
   "id": "0323132d",
   "metadata": {},
   "outputs": [
    {
     "data": {
      "text/plain": [
       "[1, 2, 4, 5, 6, 8]"
      ]
     },
     "execution_count": 32,
     "metadata": {},
     "output_type": "execute_result"
    }
   ],
   "source": [
    "j"
   ]
  },
  {
   "cell_type": "code",
   "execution_count": 33,
   "id": "2b66e62a",
   "metadata": {},
   "outputs": [
    {
     "data": {
      "text/plain": [
       "[8, 6, 5, 4, 2, 1]"
      ]
     },
     "execution_count": 33,
     "metadata": {},
     "output_type": "execute_result"
    }
   ],
   "source": [
    "j[::-1]"
   ]
  },
  {
   "cell_type": "code",
   "execution_count": 34,
   "id": "8cbadacc",
   "metadata": {},
   "outputs": [],
   "source": [
    "j.reverse()"
   ]
  },
  {
   "cell_type": "code",
   "execution_count": 35,
   "id": "9586753c",
   "metadata": {},
   "outputs": [
    {
     "data": {
      "text/plain": [
       "[8, 6, 5, 4, 2, 1]"
      ]
     },
     "execution_count": 35,
     "metadata": {},
     "output_type": "execute_result"
    }
   ],
   "source": [
    "j"
   ]
  },
  {
   "cell_type": "markdown",
   "id": "c614328c",
   "metadata": {},
   "source": [
    "# TUPLE"
   ]
  },
  {
   "cell_type": "code",
   "execution_count": 37,
   "id": "eed795fa",
   "metadata": {},
   "outputs": [
    {
     "ename": "SyntaxError",
     "evalue": "invalid syntax (1466464543.py, line 1)",
     "output_type": "error",
     "traceback": [
      "\u001b[1;36m  Cell \u001b[1;32mIn[37], line 1\u001b[1;36m\u001b[0m\n\u001b[1;33m    1 tuple is written in paranthesis ()\u001b[0m\n\u001b[1;37m      ^\u001b[0m\n\u001b[1;31mSyntaxError\u001b[0m\u001b[1;31m:\u001b[0m invalid syntax\n"
     ]
    }
   ],
   "source": [
    "1 tuple is written in paranthesis ()\n",
    "2 we can modify or change the tuple after once created/ immutable\n",
    "3 tuple comsumes less memory compare to list"
   ]
  },
  {
   "cell_type": "code",
   "execution_count": 38,
   "id": "7432da59",
   "metadata": {},
   "outputs": [],
   "source": [
    "emp_tup=()"
   ]
  },
  {
   "cell_type": "code",
   "execution_count": 39,
   "id": "2af844e7",
   "metadata": {},
   "outputs": [],
   "source": [
    "num= (1,2,3,4)"
   ]
  },
  {
   "cell_type": "code",
   "execution_count": 40,
   "id": "8051df2f",
   "metadata": {},
   "outputs": [
    {
     "data": {
      "text/plain": [
       "(1, 2, 3, 4)"
      ]
     },
     "execution_count": 40,
     "metadata": {},
     "output_type": "execute_result"
    }
   ],
   "source": [
    "num"
   ]
  },
  {
   "cell_type": "code",
   "execution_count": 41,
   "id": "bd6c8cd3",
   "metadata": {},
   "outputs": [],
   "source": [
    "names=('sam','jhon','rock')"
   ]
  },
  {
   "cell_type": "code",
   "execution_count": 42,
   "id": "0e56d5b9",
   "metadata": {},
   "outputs": [
    {
     "data": {
      "text/plain": [
       "('sam', 'jhon', 'rock')"
      ]
     },
     "execution_count": 42,
     "metadata": {},
     "output_type": "execute_result"
    }
   ],
   "source": [
    "names"
   ]
  },
  {
   "cell_type": "code",
   "execution_count": 46,
   "id": "d7fff581",
   "metadata": {},
   "outputs": [],
   "source": [
    "mixed_tup= (10,True,'data',10+7j,4.5)"
   ]
  },
  {
   "cell_type": "code",
   "execution_count": 47,
   "id": "d074b3a2",
   "metadata": {},
   "outputs": [
    {
     "data": {
      "text/plain": [
       "(10, True, 'data', (10+7j), 4.5)"
      ]
     },
     "execution_count": 47,
     "metadata": {},
     "output_type": "execute_result"
    }
   ],
   "source": [
    "mixed_tup"
   ]
  },
  {
   "cell_type": "code",
   "execution_count": 48,
   "id": "e49e449b",
   "metadata": {},
   "outputs": [
    {
     "data": {
      "text/plain": [
       "(True, 'data', (10+7j))"
      ]
     },
     "execution_count": 48,
     "metadata": {},
     "output_type": "execute_result"
    }
   ],
   "source": [
    "mixed_tup[1:4]"
   ]
  },
  {
   "cell_type": "code",
   "execution_count": 49,
   "id": "c46ce62e",
   "metadata": {},
   "outputs": [
    {
     "data": {
      "text/plain": [
       "(1, 2, 3, 4, 'sam', 'jhon', 'rock')"
      ]
     },
     "execution_count": 49,
     "metadata": {},
     "output_type": "execute_result"
    }
   ],
   "source": [
    "num+names"
   ]
  },
  {
   "cell_type": "code",
   "execution_count": 50,
   "id": "e2824b36",
   "metadata": {},
   "outputs": [
    {
     "data": {
      "text/plain": [
       "tuple"
      ]
     },
     "execution_count": 50,
     "metadata": {},
     "output_type": "execute_result"
    }
   ],
   "source": [
    "type(num)"
   ]
  },
  {
   "cell_type": "code",
   "execution_count": 51,
   "id": "6178426c",
   "metadata": {},
   "outputs": [
    {
     "data": {
      "text/plain": [
       "(1, 2, 3, 4, 1, 2, 3, 4)"
      ]
     },
     "execution_count": 51,
     "metadata": {},
     "output_type": "execute_result"
    }
   ],
   "source": [
    "num*2"
   ]
  },
  {
   "cell_type": "code",
   "execution_count": 52,
   "id": "a87eacd2",
   "metadata": {},
   "outputs": [
    {
     "data": {
      "text/plain": [
       "2"
      ]
     },
     "execution_count": 52,
     "metadata": {},
     "output_type": "execute_result"
    }
   ],
   "source": [
    "num.index(3)"
   ]
  },
  {
   "cell_type": "code",
   "execution_count": 53,
   "id": "1303c91f",
   "metadata": {},
   "outputs": [
    {
     "data": {
      "text/plain": [
       "4"
      ]
     },
     "execution_count": 53,
     "metadata": {},
     "output_type": "execute_result"
    }
   ],
   "source": [
    "mixed_tup.index(4.5)"
   ]
  },
  {
   "cell_type": "code",
   "execution_count": 54,
   "id": "84581f22",
   "metadata": {},
   "outputs": [
    {
     "data": {
      "text/plain": [
       "1"
      ]
     },
     "execution_count": 54,
     "metadata": {},
     "output_type": "execute_result"
    }
   ],
   "source": [
    "mixed_tup.count(1)"
   ]
  },
  {
   "cell_type": "code",
   "execution_count": 55,
   "id": "c33ef7b7",
   "metadata": {},
   "outputs": [],
   "source": [
    "k=(1,1,2,3,3,4,4,4,5,5)"
   ]
  },
  {
   "cell_type": "code",
   "execution_count": 56,
   "id": "669ab312",
   "metadata": {},
   "outputs": [
    {
     "data": {
      "text/plain": [
       "2"
      ]
     },
     "execution_count": 56,
     "metadata": {},
     "output_type": "execute_result"
    }
   ],
   "source": [
    "k.count(1)"
   ]
  },
  {
   "cell_type": "code",
   "execution_count": 57,
   "id": "90372c83",
   "metadata": {},
   "outputs": [
    {
     "data": {
      "text/plain": [
       "3"
      ]
     },
     "execution_count": 57,
     "metadata": {},
     "output_type": "execute_result"
    }
   ],
   "source": [
    "k.count(4)"
   ]
  },
  {
   "cell_type": "code",
   "execution_count": 58,
   "id": "3db42bdc",
   "metadata": {},
   "outputs": [
    {
     "data": {
      "text/plain": [
       "1"
      ]
     },
     "execution_count": 58,
     "metadata": {},
     "output_type": "execute_result"
    }
   ],
   "source": [
    "k[1]"
   ]
  },
  {
   "cell_type": "markdown",
   "id": "09177bea",
   "metadata": {},
   "source": [
    "# dict"
   ]
  },
  {
   "cell_type": "markdown",
   "id": "3046535b",
   "metadata": {},
   "source": [
    "# set"
   ]
  },
  {
   "cell_type": "code",
   "execution_count": 1,
   "id": "900df0d8",
   "metadata": {},
   "outputs": [],
   "source": [
    "emp_set=set()"
   ]
  },
  {
   "cell_type": "code",
   "execution_count": 2,
   "id": "0e02bfa7",
   "metadata": {},
   "outputs": [
    {
     "data": {
      "text/plain": [
       "set()"
      ]
     },
     "execution_count": 2,
     "metadata": {},
     "output_type": "execute_result"
    }
   ],
   "source": [
    "emp_set"
   ]
  },
  {
   "cell_type": "code",
   "execution_count": 3,
   "id": "f4174c04",
   "metadata": {},
   "outputs": [
    {
     "data": {
      "text/plain": [
       "set"
      ]
     },
     "execution_count": 3,
     "metadata": {},
     "output_type": "execute_result"
    }
   ],
   "source": [
    "type(emp_set)"
   ]
  },
  {
   "cell_type": "code",
   "execution_count": 4,
   "id": "c3b7254b",
   "metadata": {},
   "outputs": [],
   "source": [
    "fruit=set('Mango')"
   ]
  },
  {
   "cell_type": "code",
   "execution_count": 5,
   "id": "ff809945",
   "metadata": {},
   "outputs": [
    {
     "data": {
      "text/plain": [
       "{'M', 'a', 'g', 'n', 'o'}"
      ]
     },
     "execution_count": 5,
     "metadata": {},
     "output_type": "execute_result"
    }
   ],
   "source": [
    "fruit"
   ]
  },
  {
   "cell_type": "code",
   "execution_count": 6,
   "id": "f54fd57a",
   "metadata": {},
   "outputs": [],
   "source": [
    "num={1,2,3}"
   ]
  },
  {
   "cell_type": "code",
   "execution_count": 7,
   "id": "dc3948a5",
   "metadata": {},
   "outputs": [
    {
     "data": {
      "text/plain": [
       "{1, 2, 3}"
      ]
     },
     "execution_count": 7,
     "metadata": {},
     "output_type": "execute_result"
    }
   ],
   "source": [
    "num"
   ]
  },
  {
   "cell_type": "code",
   "execution_count": 8,
   "id": "3fc94aba",
   "metadata": {},
   "outputs": [
    {
     "data": {
      "text/plain": [
       "set"
      ]
     },
     "execution_count": 8,
     "metadata": {},
     "output_type": "execute_result"
    }
   ],
   "source": [
    "type(num)"
   ]
  },
  {
   "cell_type": "code",
   "execution_count": 9,
   "id": "0cacaa5a",
   "metadata": {},
   "outputs": [],
   "source": [
    "numbers={1,1,2,2,3,3}"
   ]
  },
  {
   "cell_type": "code",
   "execution_count": 10,
   "id": "196dec66",
   "metadata": {},
   "outputs": [
    {
     "data": {
      "text/plain": [
       "{1, 2, 3}"
      ]
     },
     "execution_count": 10,
     "metadata": {},
     "output_type": "execute_result"
    }
   ],
   "source": [
    "numbers"
   ]
  },
  {
   "cell_type": "code",
   "execution_count": 11,
   "id": "2d3bf5e7",
   "metadata": {},
   "outputs": [],
   "source": [
    "nums={10,5,8,2,7}"
   ]
  },
  {
   "cell_type": "code",
   "execution_count": 12,
   "id": "a878e925",
   "metadata": {},
   "outputs": [
    {
     "data": {
      "text/plain": [
       "{2, 5, 7, 8, 10}"
      ]
     },
     "execution_count": 12,
     "metadata": {},
     "output_type": "execute_result"
    }
   ],
   "source": [
    "nums"
   ]
  },
  {
   "cell_type": "code",
   "execution_count": 13,
   "id": "1d236833",
   "metadata": {},
   "outputs": [],
   "source": [
    "num_list=[100,300,400,200,500,500]"
   ]
  },
  {
   "cell_type": "code",
   "execution_count": 14,
   "id": "298211c5",
   "metadata": {},
   "outputs": [
    {
     "data": {
      "text/plain": [
       "[100, 300, 400, 200, 500, 500]"
      ]
     },
     "execution_count": 14,
     "metadata": {},
     "output_type": "execute_result"
    }
   ],
   "source": [
    "num_list"
   ]
  },
  {
   "cell_type": "code",
   "execution_count": 15,
   "id": "b4d14f7e",
   "metadata": {},
   "outputs": [],
   "source": [
    "num_set=set(num_list)"
   ]
  },
  {
   "cell_type": "code",
   "execution_count": 16,
   "id": "758010f7",
   "metadata": {},
   "outputs": [
    {
     "data": {
      "text/plain": [
       "{100, 200, 300, 400, 500}"
      ]
     },
     "execution_count": 16,
     "metadata": {},
     "output_type": "execute_result"
    }
   ],
   "source": [
    "num_set"
   ]
  },
  {
   "cell_type": "code",
   "execution_count": 17,
   "id": "6c0144ab",
   "metadata": {},
   "outputs": [],
   "source": [
    "num_set.remove(100)"
   ]
  },
  {
   "cell_type": "code",
   "execution_count": 18,
   "id": "72108102",
   "metadata": {},
   "outputs": [
    {
     "data": {
      "text/plain": [
       "{200, 300, 400, 500}"
      ]
     },
     "execution_count": 18,
     "metadata": {},
     "output_type": "execute_result"
    }
   ],
   "source": [
    "num_set"
   ]
  },
  {
   "cell_type": "code",
   "execution_count": 19,
   "id": "0b1526fd",
   "metadata": {},
   "outputs": [
    {
     "data": {
      "text/plain": [
       "200"
      ]
     },
     "execution_count": 19,
     "metadata": {},
     "output_type": "execute_result"
    }
   ],
   "source": [
    "num_set.pop()"
   ]
  },
  {
   "cell_type": "code",
   "execution_count": 20,
   "id": "37345a43",
   "metadata": {},
   "outputs": [],
   "source": [
    "num_set.update({100})"
   ]
  },
  {
   "cell_type": "code",
   "execution_count": 21,
   "id": "7ecc5369",
   "metadata": {},
   "outputs": [
    {
     "data": {
      "text/plain": [
       "{100, 300, 400, 500}"
      ]
     },
     "execution_count": 21,
     "metadata": {},
     "output_type": "execute_result"
    }
   ],
   "source": [
    "num_set"
   ]
  },
  {
   "cell_type": "code",
   "execution_count": 22,
   "id": "33a6a70f",
   "metadata": {},
   "outputs": [],
   "source": [
    "num_set.update({'data','science'})"
   ]
  },
  {
   "cell_type": "code",
   "execution_count": 23,
   "id": "330eb8dc",
   "metadata": {},
   "outputs": [
    {
     "data": {
      "text/plain": [
       "{100, 300, 400, 500, 'data', 'science'}"
      ]
     },
     "execution_count": 23,
     "metadata": {},
     "output_type": "execute_result"
    }
   ],
   "source": [
    "num_set"
   ]
  },
  {
   "cell_type": "code",
   "execution_count": 24,
   "id": "5341a3cf",
   "metadata": {},
   "outputs": [],
   "source": [
    "a_set={1,2,3,4,5}"
   ]
  },
  {
   "cell_type": "code",
   "execution_count": 25,
   "id": "51e0a449",
   "metadata": {},
   "outputs": [],
   "source": [
    "b_set={4,5,6,7,8}"
   ]
  },
  {
   "cell_type": "code",
   "execution_count": 26,
   "id": "29247e34",
   "metadata": {},
   "outputs": [
    {
     "data": {
      "text/plain": [
       "{1, 2, 3, 4, 5, 6, 7, 8}"
      ]
     },
     "execution_count": 26,
     "metadata": {},
     "output_type": "execute_result"
    }
   ],
   "source": [
    "a_set.union(b_set)"
   ]
  },
  {
   "cell_type": "markdown",
   "id": "4ee90595",
   "metadata": {},
   "source": [
    "# dictionary"
   ]
  },
  {
   "cell_type": "code",
   "execution_count": 2,
   "id": "c14bd400",
   "metadata": {},
   "outputs": [],
   "source": [
    "d={'a':20, 'b':30}"
   ]
  },
  {
   "cell_type": "code",
   "execution_count": 3,
   "id": "956c4656",
   "metadata": {},
   "outputs": [
    {
     "data": {
      "text/plain": [
       "{'a': 20, 'b': 30}"
      ]
     },
     "execution_count": 3,
     "metadata": {},
     "output_type": "execute_result"
    }
   ],
   "source": [
    "d"
   ]
  },
  {
   "cell_type": "code",
   "execution_count": 4,
   "id": "bba38644",
   "metadata": {},
   "outputs": [],
   "source": [
    "j={'name':'sachin','sports':'cricket','age':40,'height':4.7}"
   ]
  },
  {
   "cell_type": "code",
   "execution_count": 5,
   "id": "de54c082",
   "metadata": {},
   "outputs": [
    {
     "data": {
      "text/plain": [
       "{'name': 'sachin', 'sports': 'cricket', 'age': 40, 'height': 4.7}"
      ]
     },
     "execution_count": 5,
     "metadata": {},
     "output_type": "execute_result"
    }
   ],
   "source": [
    "j"
   ]
  },
  {
   "cell_type": "code",
   "execution_count": 6,
   "id": "484922ea",
   "metadata": {},
   "outputs": [
    {
     "data": {
      "text/plain": [
       "dict_keys(['name', 'sports', 'age', 'height'])"
      ]
     },
     "execution_count": 6,
     "metadata": {},
     "output_type": "execute_result"
    }
   ],
   "source": [
    "j.keys()"
   ]
  },
  {
   "cell_type": "code",
   "execution_count": 7,
   "id": "ea39aed8",
   "metadata": {},
   "outputs": [
    {
     "data": {
      "text/plain": [
       "dict_values(['sachin', 'cricket', 40, 4.7])"
      ]
     },
     "execution_count": 7,
     "metadata": {},
     "output_type": "execute_result"
    }
   ],
   "source": [
    "j.values()"
   ]
  },
  {
   "cell_type": "code",
   "execution_count": 8,
   "id": "cca0b6cc",
   "metadata": {},
   "outputs": [
    {
     "data": {
      "text/plain": [
       "dict_items([('name', 'sachin'), ('sports', 'cricket'), ('age', 40), ('height', 4.7)])"
      ]
     },
     "execution_count": 8,
     "metadata": {},
     "output_type": "execute_result"
    }
   ],
   "source": [
    "j.items()"
   ]
  },
  {
   "cell_type": "code",
   "execution_count": 9,
   "id": "ad3ad935",
   "metadata": {},
   "outputs": [],
   "source": [
    "j.update({'city':'pune'})"
   ]
  },
  {
   "cell_type": "code",
   "execution_count": 10,
   "id": "bd756ccf",
   "metadata": {},
   "outputs": [
    {
     "data": {
      "text/plain": [
       "{'name': 'sachin',\n",
       " 'sports': 'cricket',\n",
       " 'age': 40,\n",
       " 'height': 4.7,\n",
       " 'city': 'pune'}"
      ]
     },
     "execution_count": 10,
     "metadata": {},
     "output_type": "execute_result"
    }
   ],
   "source": [
    "j"
   ]
  },
  {
   "cell_type": "code",
   "execution_count": 11,
   "id": "74fb69af",
   "metadata": {},
   "outputs": [
    {
     "data": {
      "text/plain": [
       "'pune'"
      ]
     },
     "execution_count": 11,
     "metadata": {},
     "output_type": "execute_result"
    }
   ],
   "source": [
    "j.pop('city')"
   ]
  },
  {
   "cell_type": "code",
   "execution_count": 12,
   "id": "31f8bd21",
   "metadata": {},
   "outputs": [
    {
     "data": {
      "text/plain": [
       "{'name': 'sachin', 'sports': 'cricket', 'age': 40, 'height': 4.7}"
      ]
     },
     "execution_count": 12,
     "metadata": {},
     "output_type": "execute_result"
    }
   ],
   "source": [
    "j"
   ]
  },
  {
   "cell_type": "markdown",
   "id": "9c9b51a6",
   "metadata": {},
   "source": [
    " # if else"
   ]
  },
  {
   "cell_type": "code",
   "execution_count": 16,
   "id": "64caa14b",
   "metadata": {},
   "outputs": [
    {
     "name": "stdout",
     "output_type": "stream",
     "text": [
      "less than 20\n"
     ]
    }
   ],
   "source": [
    "if 10<20:\n",
    "    print('less than 20')\n",
    "else: print('not less than 20')"
   ]
  },
  {
   "cell_type": "code",
   "execution_count": 19,
   "id": "40762430",
   "metadata": {},
   "outputs": [
    {
     "name": "stdout",
     "output_type": "stream",
     "text": [
      "not greater than 10\n"
     ]
    }
   ],
   "source": [
    "a= 10\n",
    "if a> 15:\n",
    "    print('greater than', a)\n",
    "else: print('not greater than',a)    "
   ]
  },
  {
   "cell_type": "raw",
   "id": "bb6d66c9",
   "metadata": {},
   "source": [
    "marks"
   ]
  },
  {
   "cell_type": "code",
   "execution_count": 20,
   "id": "2d427838",
   "metadata": {},
   "outputs": [
    {
     "name": "stdout",
     "output_type": "stream",
     "text": [
      "pass\n"
     ]
    }
   ],
   "source": [
    "marks=40\n",
    "if marks> 35:\n",
    "    print('pass')\n",
    "else: print('fail')"
   ]
  },
  {
   "cell_type": "code",
   "execution_count": 21,
   "id": "1e4ada6a",
   "metadata": {},
   "outputs": [
    {
     "name": "stdout",
     "output_type": "stream",
     "text": [
      "enter your marks55\n",
      "you are pass\n"
     ]
    }
   ],
   "source": [
    "marks=int(input('enter your marks'))\n",
    "if marks> 35:\n",
    "    print('you are pass')\n",
    "else: print('you are fail')"
   ]
  },
  {
   "cell_type": "code",
   "execution_count": 22,
   "id": "d0752508",
   "metadata": {},
   "outputs": [
    {
     "name": "stdout",
     "output_type": "stream",
     "text": [
      "30\n",
      "you are fail\n"
     ]
    }
   ],
   "source": [
    "marks=int(input())\n",
    "if marks> 95:\n",
    "    print('A grade')\n",
    "elif marks>70:\n",
    "    print('B grade')\n",
    "elif marks>50:\n",
    "    print('C grade')\n",
    "elif marks>35:\n",
    "    print('you are only pass')\n",
    "else: print('you are fail')"
   ]
  },
  {
   "cell_type": "markdown",
   "id": "233457c2",
   "metadata": {},
   "source": [
    "# and or"
   ]
  },
  {
   "cell_type": "code",
   "execution_count": 1,
   "id": "566b9238",
   "metadata": {},
   "outputs": [
    {
     "name": "stdout",
     "output_type": "stream",
     "text": [
      "20\n",
      "you are fail\n"
     ]
    }
   ],
   "source": [
    "marks=int(input())\n",
    "if marks < 35:\n",
    "    print('you are fail')\n",
    "elif marks >35 and marks<45:\n",
    "    print('range b/w 35 to 45')\n",
    "elif marks> 45 and marks<100:\n",
    "    print('45 - 90 range')\n",
    "else:\n",
    "    print('please write valid marks')"
   ]
  },
  {
   "cell_type": "code",
   "execution_count": null,
   "id": "1e972744",
   "metadata": {},
   "outputs": [],
   "source": [
    "marks=int(input())\n",
    "if marks< 35:\n",
    "    print('you are fail')\n",
    "elif marks> 35 and marksZ< 45:\n",
    "    print('range b/w 35 to 45')\n",
    "elif marks> 45 and marks <100:\n",
    "    print('45 - 90 range')\n",
    "else:\n",
    "    print('please write valid marks')"
   ]
  },
  {
   "cell_type": "code",
   "execution_count": 11,
   "id": "417575b3",
   "metadata": {},
   "outputs": [
    {
     "name": "stdout",
     "output_type": "stream",
     "text": [
      "write your course namepython\n",
      "enter your coupon codenew2024\n",
      "your have a discount of 1000\n"
     ]
    }
   ],
   "source": [
    "course=input('write your course name')\n",
    "discount_coupon=input('enter your coupon code')\n",
    "\n",
    "if course == 'python':\n",
    "    if discount_coupon== 'new2024':\n",
    "        print('your have a discount of 1000')\n",
    "    elif discount_coupon == 'feb2024':\n",
    "        print('you have a discount of500')\n",
    "    else: print('please write a valid discount code for python')\n",
    "        \n",
    "elif course == 'java':\n",
    "    if discount_coupon == 'new2024':\n",
    "        print('your have a discount of 1000')\n",
    "    elif discount_coupon == 'feb2024':\n",
    "        print('you have a discount of500')\n",
    "    else: print('please write a valid discount code for java')\n",
    "        \n",
    "else: print('please select a valid course')"
   ]
  },
  {
   "cell_type": "markdown",
   "id": "43a78f44",
   "metadata": {},
   "source": [
    "# for"
   ]
  },
  {
   "cell_type": "code",
   "execution_count": 1,
   "id": "0de1425a",
   "metadata": {},
   "outputs": [],
   "source": [
    "l = [1,2,3,4,5]"
   ]
  },
  {
   "cell_type": "code",
   "execution_count": 2,
   "id": "5d04aae9",
   "metadata": {},
   "outputs": [
    {
     "data": {
      "text/plain": [
       "[1, 2, 3, 4, 5]"
      ]
     },
     "execution_count": 2,
     "metadata": {},
     "output_type": "execute_result"
    }
   ],
   "source": [
    "l"
   ]
  },
  {
   "cell_type": "code",
   "execution_count": 5,
   "id": "8730d533",
   "metadata": {},
   "outputs": [
    {
     "name": "stdout",
     "output_type": "stream",
     "text": [
      "1\n",
      "2\n",
      "3\n",
      "4\n",
      "5\n"
     ]
    }
   ],
   "source": [
    "for num in l:\n",
    "    print(num)"
   ]
  },
  {
   "cell_type": "code",
   "execution_count": 6,
   "id": "734c90be",
   "metadata": {},
   "outputs": [
    {
     "name": "stdout",
     "output_type": "stream",
     "text": [
      "11\n",
      "12\n",
      "13\n",
      "14\n",
      "15\n"
     ]
    }
   ],
   "source": [
    "for i in l:\n",
    "    print(i+10)"
   ]
  },
  {
   "cell_type": "code",
   "execution_count": 7,
   "id": "86f8bd4a",
   "metadata": {},
   "outputs": [
    {
     "name": "stdout",
     "output_type": "stream",
     "text": [
      "2\n",
      "4\n",
      "6\n",
      "8\n",
      "10\n"
     ]
    }
   ],
   "source": [
    "for elements in l:\n",
    "    print(elements*2)"
   ]
  },
  {
   "cell_type": "code",
   "execution_count": 8,
   "id": "4a5df137",
   "metadata": {},
   "outputs": [
    {
     "name": "stdout",
     "output_type": "stream",
     "text": [
      "d\n",
      "a\n",
      "t\n",
      "a\n"
     ]
    }
   ],
   "source": [
    "for i in 'data':\n",
    "    print(i)"
   ]
  },
  {
   "cell_type": "code",
   "execution_count": 9,
   "id": "1574358e",
   "metadata": {},
   "outputs": [],
   "source": [
    "p=(10,20,30,40,50)"
   ]
  },
  {
   "cell_type": "code",
   "execution_count": 10,
   "id": "79e37b80",
   "metadata": {},
   "outputs": [
    {
     "name": "stdout",
     "output_type": "stream",
     "text": [
      "10\n",
      "20\n",
      "30\n",
      "40\n",
      "50\n"
     ]
    }
   ],
   "source": [
    "for i in p:\n",
    "    print(i)"
   ]
  },
  {
   "cell_type": "markdown",
   "id": "18c497db",
   "metadata": {},
   "source": [
    "# WHILE LOOP"
   ]
  },
  {
   "cell_type": "code",
   "execution_count": 3,
   "id": "7d370719",
   "metadata": {},
   "outputs": [],
   "source": [
    "x=1"
   ]
  },
  {
   "cell_type": "code",
   "execution_count": 4,
   "id": "b7544568",
   "metadata": {},
   "outputs": [
    {
     "name": "stdout",
     "output_type": "stream",
     "text": [
      "1\n",
      "2\n",
      "3\n",
      "4\n"
     ]
    }
   ],
   "source": [
    "while x<5:\n",
    "    print(x)\n",
    "    x=x+1"
   ]
  },
  {
   "cell_type": "code",
   "execution_count": 5,
   "id": "0eb7bbb6",
   "metadata": {},
   "outputs": [],
   "source": [
    "x=1"
   ]
  },
  {
   "cell_type": "code",
   "execution_count": 6,
   "id": "fa98768b",
   "metadata": {},
   "outputs": [
    {
     "name": "stdout",
     "output_type": "stream",
     "text": [
      "1\n",
      "2\n",
      "3\n",
      "4\n",
      "5\n"
     ]
    }
   ],
   "source": [
    "while x<=5:\n",
    "    print(x)\n",
    "    x=x+1"
   ]
  },
  {
   "cell_type": "code",
   "execution_count": 7,
   "id": "9bcad8e0",
   "metadata": {},
   "outputs": [],
   "source": [
    "x=1"
   ]
  },
  {
   "cell_type": "code",
   "execution_count": 8,
   "id": "65d3f9cd",
   "metadata": {},
   "outputs": [
    {
     "name": "stdout",
     "output_type": "stream",
     "text": [
      "1\n",
      "2\n",
      "3\n",
      "4\n",
      "5\n",
      "6\n",
      "7\n",
      "8\n",
      "9\n",
      "10\n"
     ]
    }
   ],
   "source": [
    "while x<=10:\n",
    "    print(x)\n",
    "    x=x+1"
   ]
  },
  {
   "cell_type": "code",
   "execution_count": 9,
   "id": "c730fc54",
   "metadata": {},
   "outputs": [
    {
     "name": "stdout",
     "output_type": "stream",
     "text": [
      "enter your age7\n",
      "your age is 7\n",
      "enter your age8\n",
      "your age is 8\n",
      "enter your age25\n",
      "your age is 25\n",
      "enter your age30\n",
      "your age is 30\n"
     ]
    }
   ],
   "source": [
    "age= int()\n",
    "while age!=30:\n",
    "    age=int(input('enter your age'))\n",
    "    print('your age is',age)"
   ]
  },
  {
   "cell_type": "code",
   "execution_count": 10,
   "id": "3ba701f9",
   "metadata": {},
   "outputs": [
    {
     "name": "stdout",
     "output_type": "stream",
     "text": [
      "1\n",
      "3\n",
      "6\n",
      "10\n",
      "15\n"
     ]
    }
   ],
   "source": [
    "total=0\n",
    "num=1\n",
    "while num<=5:\n",
    "    total=total+num\n",
    "    num=num+1\n",
    "    print(total)"
   ]
  },
  {
   "cell_type": "markdown",
   "id": "674b26d1",
   "metadata": {},
   "source": [
    "# break-continue-pass"
   ]
  },
  {
   "cell_type": "code",
   "execution_count": 11,
   "id": "08794b9d",
   "metadata": {},
   "outputs": [
    {
     "name": "stdout",
     "output_type": "stream",
     "text": [
      "0\n",
      "1\n",
      "2\n"
     ]
    }
   ],
   "source": [
    "for i in range(5):\n",
    "    if i==3:\n",
    "        break\n",
    "    print(i)"
   ]
  },
  {
   "cell_type": "code",
   "execution_count": 13,
   "id": "d7362751",
   "metadata": {},
   "outputs": [
    {
     "name": "stdout",
     "output_type": "stream",
     "text": [
      "d\n",
      "a\n",
      "t\n",
      "a\n",
      "c\n"
     ]
    }
   ],
   "source": [
    "for i in 'datacouncil':\n",
    "    if i=='o':\n",
    "        break\n",
    "    print(i)"
   ]
  },
  {
   "cell_type": "code",
   "execution_count": 18,
   "id": "068fa342",
   "metadata": {},
   "outputs": [
    {
     "name": "stdout",
     "output_type": "stream",
     "text": [
      "0\n",
      "1\n",
      "2\n",
      "4\n"
     ]
    }
   ],
   "source": [
    "for i in range(5):\n",
    "    if i==3:\n",
    "        continue\n",
    "    print(i)"
   ]
  },
  {
   "cell_type": "code",
   "execution_count": 19,
   "id": "6d41495b",
   "metadata": {},
   "outputs": [
    {
     "name": "stdout",
     "output_type": "stream",
     "text": [
      "d\n",
      "a\n",
      "t\n",
      "a\n",
      "c\n",
      "u\n",
      "n\n",
      "c\n",
      "i\n",
      "l\n"
     ]
    }
   ],
   "source": [
    "for i in 'datacouncil':\n",
    "    if i=='o':\n",
    "        continue\n",
    "    print(i)"
   ]
  },
  {
   "cell_type": "code",
   "execution_count": 20,
   "id": "f28a2184",
   "metadata": {},
   "outputs": [
    {
     "name": "stdout",
     "output_type": "stream",
     "text": [
      "0\n",
      "1\n",
      "2\n",
      "3\n",
      "4\n"
     ]
    }
   ],
   "source": [
    "for i in range(5):\n",
    "    if i==3:\n",
    "        pass # nothing\n",
    "    print(i)"
   ]
  },
  {
   "cell_type": "markdown",
   "id": "005f87dc",
   "metadata": {},
   "source": [
    "# function"
   ]
  },
  {
   "cell_type": "code",
   "execution_count": 3,
   "id": "cada4431",
   "metadata": {},
   "outputs": [],
   "source": [
    "def test(a):\n",
    "    print('a')"
   ]
  },
  {
   "cell_type": "code",
   "execution_count": 5,
   "id": "85b97b36",
   "metadata": {},
   "outputs": [
    {
     "name": "stdout",
     "output_type": "stream",
     "text": [
      "a\n"
     ]
    }
   ],
   "source": [
    "test(1)"
   ]
  },
  {
   "cell_type": "code",
   "execution_count": 6,
   "id": "6ae67e88",
   "metadata": {},
   "outputs": [],
   "source": [
    "def test2(a,b):\n",
    "    print(a+b)"
   ]
  },
  {
   "cell_type": "code",
   "execution_count": 7,
   "id": "2507b292",
   "metadata": {},
   "outputs": [
    {
     "name": "stdout",
     "output_type": "stream",
     "text": [
      "15\n"
     ]
    }
   ],
   "source": [
    "test2(10,5)"
   ]
  },
  {
   "cell_type": "code",
   "execution_count": 8,
   "id": "0ec6f629",
   "metadata": {},
   "outputs": [
    {
     "name": "stdout",
     "output_type": "stream",
     "text": [
      "0\n",
      "1\n",
      "2\n",
      "3\n",
      "4\n"
     ]
    }
   ],
   "source": [
    "for i in range(5):\n",
    "    print(i)"
   ]
  },
  {
   "cell_type": "code",
   "execution_count": 9,
   "id": "fb5e2cb1",
   "metadata": {},
   "outputs": [],
   "source": [
    "def test3(a):\n",
    "    for i in a:\n",
    "        print(i)"
   ]
  },
  {
   "cell_type": "code",
   "execution_count": 10,
   "id": "3b5d5bce",
   "metadata": {},
   "outputs": [
    {
     "name": "stdout",
     "output_type": "stream",
     "text": [
      "1\n",
      "2\n",
      "3\n",
      "4\n",
      "5\n"
     ]
    }
   ],
   "source": [
    "test3([1,2,3,4,5])"
   ]
  },
  {
   "cell_type": "code",
   "execution_count": 11,
   "id": "d9a102f0",
   "metadata": {},
   "outputs": [],
   "source": [
    "def test4(a):\n",
    "    for i in a:\n",
    "        return i"
   ]
  },
  {
   "cell_type": "code",
   "execution_count": 12,
   "id": "ba0b67c3",
   "metadata": {},
   "outputs": [
    {
     "data": {
      "text/plain": [
       "1"
      ]
     },
     "execution_count": 12,
     "metadata": {},
     "output_type": "execute_result"
    }
   ],
   "source": [
    "test4([1,2,3,4,5])"
   ]
  },
  {
   "cell_type": "code",
   "execution_count": 13,
   "id": "a82e75bc",
   "metadata": {},
   "outputs": [
    {
     "name": "stdout",
     "output_type": "stream",
     "text": [
      "a\n"
     ]
    },
    {
     "data": {
      "text/plain": [
       "NoneType"
      ]
     },
     "execution_count": 13,
     "metadata": {},
     "output_type": "execute_result"
    }
   ],
   "source": [
    "type(test(5))"
   ]
  },
  {
   "cell_type": "code",
   "execution_count": 14,
   "id": "3a60819b",
   "metadata": {},
   "outputs": [],
   "source": [
    "def test5(a):\n",
    "    return a"
   ]
  },
  {
   "cell_type": "code",
   "execution_count": 15,
   "id": "02f9f243",
   "metadata": {},
   "outputs": [
    {
     "data": {
      "text/plain": [
       "6"
      ]
     },
     "execution_count": 15,
     "metadata": {},
     "output_type": "execute_result"
    }
   ],
   "source": [
    "test5(6)"
   ]
  },
  {
   "cell_type": "code",
   "execution_count": 16,
   "id": "4c2965de",
   "metadata": {},
   "outputs": [
    {
     "data": {
      "text/plain": [
       "int"
      ]
     },
     "execution_count": 16,
     "metadata": {},
     "output_type": "execute_result"
    }
   ],
   "source": [
    "type(test5(5))"
   ]
  },
  {
   "cell_type": "code",
   "execution_count": 17,
   "id": "8d4beb23",
   "metadata": {},
   "outputs": [],
   "source": [
    "def multiplication(a,b):\n",
    "    return a*b"
   ]
  },
  {
   "cell_type": "code",
   "execution_count": 18,
   "id": "72ae63af",
   "metadata": {},
   "outputs": [
    {
     "data": {
      "text/plain": [
       "2"
      ]
     },
     "execution_count": 18,
     "metadata": {},
     "output_type": "execute_result"
    }
   ],
   "source": [
    "multiplication(1,2)"
   ]
  },
  {
   "cell_type": "markdown",
   "id": "0186f851",
   "metadata": {},
   "source": [
    "# exception handling"
   ]
  },
  {
   "cell_type": "code",
   "execution_count": 3,
   "id": "48071681",
   "metadata": {},
   "outputs": [
    {
     "name": "stdout",
     "output_type": "stream",
     "text": [
      "Enter an integer inputhf\n",
      "input is not int data\n"
     ]
    }
   ],
   "source": [
    "try:\n",
    "    a=int(input('Enter an integer input'))\n",
    "    print(a+10)\n",
    "except:\n",
    "    print('input is not int data')"
   ]
  },
  {
   "cell_type": "code",
   "execution_count": 4,
   "id": "773b4ac0",
   "metadata": {},
   "outputs": [
    {
     "name": "stdout",
     "output_type": "stream",
     "text": [
      "0\n",
      "Zerodivisionerror\n"
     ]
    }
   ],
   "source": [
    "try:\n",
    "    a=int(input())\n",
    "    print(2/a)\n",
    "except:\n",
    "    print('Zerodivisionerror')"
   ]
  },
  {
   "cell_type": "code",
   "execution_count": null,
   "id": "44cd8b49",
   "metadata": {},
   "outputs": [],
   "source": []
  }
 ],
 "metadata": {
  "kernelspec": {
   "display_name": "Python 3 (ipykernel)",
   "language": "python",
   "name": "python3"
  },
  "language_info": {
   "codemirror_mode": {
    "name": "ipython",
    "version": 3
   },
   "file_extension": ".py",
   "mimetype": "text/x-python",
   "name": "python",
   "nbconvert_exporter": "python",
   "pygments_lexer": "ipython3",
   "version": "3.11.5"
  }
 },
 "nbformat": 4,
 "nbformat_minor": 5
}
